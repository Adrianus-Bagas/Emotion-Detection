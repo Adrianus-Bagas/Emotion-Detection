{
  "cells": [
    {
      "cell_type": "markdown",
      "metadata": {
        "id": "view-in-github",
        "colab_type": "text"
      },
      "source": [
        "<a href=\"https://colab.research.google.com/github/Adrianus-Bagas/Emotion-Detection/blob/main/Emotion_Detection_(Model).ipynb\" target=\"_parent\"><img src=\"https://colab.research.google.com/assets/colab-badge.svg\" alt=\"Open In Colab\"/></a>"
      ]
    },
    {
      "cell_type": "markdown",
      "metadata": {
        "id": "7-l4y3uYhL8X"
      },
      "source": [
        "# Deteksi Emosi Melalui Audio"
      ]
    },
    {
      "cell_type": "markdown",
      "metadata": {
        "id": "PHPqpTBXhZ7M"
      },
      "source": [
        "## 1. Import beberapa libraries"
      ]
    },
    {
      "cell_type": "code",
      "execution_count": null,
      "metadata": {
        "id": "XIpj7r6T32Pu"
      },
      "outputs": [],
      "source": [
        "import pandas as pd\n",
        "import numpy as np\n",
        "\n",
        "import os\n",
        "import sys\n",
        "\n",
        "# librosa is a Python library for analyzing audio and music. It can be used to extract the data from the audio files we will see it later.\n",
        "import librosa\n",
        "import librosa.display\n",
        "import seaborn as sns\n",
        "import matplotlib.pyplot as plt\n",
        "\n",
        "from sklearn.preprocessing import StandardScaler, OneHotEncoder\n",
        "from sklearn.metrics import confusion_matrix, classification_report\n",
        "from sklearn.model_selection import train_test_split\n",
        "\n",
        "# to play the audio files\n",
        "from IPython.display import Audio\n",
        "\n",
        "import keras\n",
        "from keras.callbacks import ReduceLROnPlateau\n",
        "from keras.models import Sequential\n",
        "from keras.layers import Dense, Conv1D, MaxPooling1D, Flatten, Dropout, BatchNormalization, LSTM, GRU\n",
        "from keras.utils import np_utils\n",
        "from tensorflow.keras.utils import to_categorical\n",
        "from keras.callbacks import ModelCheckpoint\n",
        "\n",
        "import warnings\n",
        "if not sys.warnoptions:\n",
        "    warnings.simplefilter(\"ignore\")\n",
        "warnings.filterwarnings(\"ignore\", category=DeprecationWarning)"
      ]
    },
    {
      "cell_type": "markdown",
      "metadata": {
        "id": "s6ntst-L5fYd"
      },
      "source": [
        "## 2. Memuat data"
      ]
    },
    {
      "cell_type": "code",
      "execution_count": null,
      "metadata": {
        "colab": {
          "base_uri": "https://localhost:8080/"
        },
        "id": "9D_sTmEktiOz",
        "outputId": "3d66bf7d-0137-41a4-adaa-5def2537e4c6"
      },
      "outputs": [
        {
          "output_type": "stream",
          "name": "stdout",
          "text": [
            "Drive already mounted at /content/drive; to attempt to forcibly remount, call drive.mount(\"/content/drive\", force_remount=True).\n"
          ]
        }
      ],
      "source": [
        "from google.colab import drive\n",
        "drive.mount('/content/drive')"
      ]
    },
    {
      "cell_type": "code",
      "execution_count": null,
      "metadata": {
        "id": "EtR9JVNttm9B",
        "colab": {
          "base_uri": "https://localhost:8080/",
          "height": 488
        },
        "outputId": "ec84af2f-666f-4208-b2cb-c397393c5160"
      },
      "outputs": [
        {
          "output_type": "execute_result",
          "data": {
            "text/plain": [
              "               0           1          2          3          4          5  \\\n",
              "0    -399.742432  100.436081   9.187292  28.390308  -6.561333  16.537472   \n",
              "1    -359.149395   71.894877  17.545031  18.976195  -0.390334   9.577103   \n",
              "2    -461.433105   93.952171   9.721594  25.440495  -5.660292  16.642614   \n",
              "3    -407.631195   99.247940  10.754412  27.849697   2.521706  14.629902   \n",
              "4    -307.760183   48.053203  18.740791  11.992347   4.532837   5.695790   \n",
              "...          ...         ...        ...        ...        ...        ...   \n",
              "4795 -404.828807   74.550954  16.057916  -4.880032   0.563853   1.578211   \n",
              "4796 -544.494141  137.743301   8.655626 -17.808264  -1.746074   2.450433   \n",
              "4797 -471.726929  116.254143  24.741329 -13.907975 -10.322044   3.570961   \n",
              "4798 -327.124668   48.649999  15.751025  -5.820897  -7.573235  -1.919178   \n",
              "4799 -522.471436  122.185684  19.204237 -22.643139 -14.698542   1.794424   \n",
              "\n",
              "              6          7          8         9  ...        11         12  \\\n",
              "0     -0.138621  -8.180938   1.366691  1.567494  ... -1.330374 -11.792912   \n",
              "1      1.568283  -6.067213   1.954241 -2.368474  ... -5.174180  -5.000865   \n",
              "2     -3.905573  -8.742842   3.246967 -2.633952  ... -4.004335  -4.990000   \n",
              "3     -2.598167 -11.795385   5.944390 -3.853054  ...  2.614057 -12.985439   \n",
              "4     -1.903840  -5.020708   1.605943 -2.924321  ... -5.029605  -3.504687   \n",
              "...         ...        ...        ...       ...  ...       ...        ...   \n",
              "4795  -9.109502 -10.532808  -9.339563 -4.653175  ... -8.197384  -5.186045   \n",
              "4796 -18.456900 -14.074989 -13.861665 -3.334609  ... -5.868994  -7.610136   \n",
              "4797  -6.128961  -3.667096 -17.369890 -3.986244  ... -6.656944  -6.157938   \n",
              "4798  -1.067227  -5.348863  -8.856018 -8.608043  ... -6.620527  -5.143201   \n",
              "4799  -6.908287  -6.562756 -20.089109 -4.762250  ... -4.105553  -5.817491   \n",
              "\n",
              "             13         14        15        16         17        18        19  \\\n",
              "0     14.240981 -11.331120 -1.957271 -1.172745  -0.676887 -5.290711 -3.465883   \n",
              "1      7.009338  -6.859118 -5.140312  0.024275  -3.061469 -2.985632 -4.941814   \n",
              "2     13.022542 -15.329729  1.545783 -1.163409  -1.142039 -3.984202 -3.492022   \n",
              "3     10.140218 -12.777110 -2.410043 -1.422408  -1.650963 -6.968535 -6.341195   \n",
              "4      0.704473  -6.390824 -5.708613 -2.521811  -3.925443 -3.800466 -4.812770   \n",
              "...         ...        ...       ...       ...        ...       ...       ...   \n",
              "4795  -1.926364  -2.145762 -1.012196  1.395253   4.627178  1.291640 -5.290825   \n",
              "4796  -0.868871  -2.432390  3.335274 -0.408585   4.448386 -5.163003 -9.341989   \n",
              "4797  -2.079576  -3.540452  6.148648 -3.185794   9.152263  1.120421 -3.447200   \n",
              "4798  -3.540646  -1.242687  1.519939  2.108145   2.918989  0.778003 -3.033096   \n",
              "4799  -1.112024   0.607468  6.450405 -2.286996  10.399771 -4.755563 -5.521990   \n",
              "\n",
              "      labels  \n",
              "0        sad  \n",
              "1        sad  \n",
              "2        sad  \n",
              "3        sad  \n",
              "4        sad  \n",
              "...      ...  \n",
              "4795   happy  \n",
              "4796   happy  \n",
              "4797   happy  \n",
              "4798   happy  \n",
              "4799   happy  \n",
              "\n",
              "[4800 rows x 21 columns]"
            ],
            "text/html": [
              "\n",
              "  <div id=\"df-45a266ac-622e-46b8-b203-4daec1df8428\">\n",
              "    <div class=\"colab-df-container\">\n",
              "      <div>\n",
              "<style scoped>\n",
              "    .dataframe tbody tr th:only-of-type {\n",
              "        vertical-align: middle;\n",
              "    }\n",
              "\n",
              "    .dataframe tbody tr th {\n",
              "        vertical-align: top;\n",
              "    }\n",
              "\n",
              "    .dataframe thead th {\n",
              "        text-align: right;\n",
              "    }\n",
              "</style>\n",
              "<table border=\"1\" class=\"dataframe\">\n",
              "  <thead>\n",
              "    <tr style=\"text-align: right;\">\n",
              "      <th></th>\n",
              "      <th>0</th>\n",
              "      <th>1</th>\n",
              "      <th>2</th>\n",
              "      <th>3</th>\n",
              "      <th>4</th>\n",
              "      <th>5</th>\n",
              "      <th>6</th>\n",
              "      <th>7</th>\n",
              "      <th>8</th>\n",
              "      <th>9</th>\n",
              "      <th>...</th>\n",
              "      <th>11</th>\n",
              "      <th>12</th>\n",
              "      <th>13</th>\n",
              "      <th>14</th>\n",
              "      <th>15</th>\n",
              "      <th>16</th>\n",
              "      <th>17</th>\n",
              "      <th>18</th>\n",
              "      <th>19</th>\n",
              "      <th>labels</th>\n",
              "    </tr>\n",
              "  </thead>\n",
              "  <tbody>\n",
              "    <tr>\n",
              "      <th>0</th>\n",
              "      <td>-399.742432</td>\n",
              "      <td>100.436081</td>\n",
              "      <td>9.187292</td>\n",
              "      <td>28.390308</td>\n",
              "      <td>-6.561333</td>\n",
              "      <td>16.537472</td>\n",
              "      <td>-0.138621</td>\n",
              "      <td>-8.180938</td>\n",
              "      <td>1.366691</td>\n",
              "      <td>1.567494</td>\n",
              "      <td>...</td>\n",
              "      <td>-1.330374</td>\n",
              "      <td>-11.792912</td>\n",
              "      <td>14.240981</td>\n",
              "      <td>-11.331120</td>\n",
              "      <td>-1.957271</td>\n",
              "      <td>-1.172745</td>\n",
              "      <td>-0.676887</td>\n",
              "      <td>-5.290711</td>\n",
              "      <td>-3.465883</td>\n",
              "      <td>sad</td>\n",
              "    </tr>\n",
              "    <tr>\n",
              "      <th>1</th>\n",
              "      <td>-359.149395</td>\n",
              "      <td>71.894877</td>\n",
              "      <td>17.545031</td>\n",
              "      <td>18.976195</td>\n",
              "      <td>-0.390334</td>\n",
              "      <td>9.577103</td>\n",
              "      <td>1.568283</td>\n",
              "      <td>-6.067213</td>\n",
              "      <td>1.954241</td>\n",
              "      <td>-2.368474</td>\n",
              "      <td>...</td>\n",
              "      <td>-5.174180</td>\n",
              "      <td>-5.000865</td>\n",
              "      <td>7.009338</td>\n",
              "      <td>-6.859118</td>\n",
              "      <td>-5.140312</td>\n",
              "      <td>0.024275</td>\n",
              "      <td>-3.061469</td>\n",
              "      <td>-2.985632</td>\n",
              "      <td>-4.941814</td>\n",
              "      <td>sad</td>\n",
              "    </tr>\n",
              "    <tr>\n",
              "      <th>2</th>\n",
              "      <td>-461.433105</td>\n",
              "      <td>93.952171</td>\n",
              "      <td>9.721594</td>\n",
              "      <td>25.440495</td>\n",
              "      <td>-5.660292</td>\n",
              "      <td>16.642614</td>\n",
              "      <td>-3.905573</td>\n",
              "      <td>-8.742842</td>\n",
              "      <td>3.246967</td>\n",
              "      <td>-2.633952</td>\n",
              "      <td>...</td>\n",
              "      <td>-4.004335</td>\n",
              "      <td>-4.990000</td>\n",
              "      <td>13.022542</td>\n",
              "      <td>-15.329729</td>\n",
              "      <td>1.545783</td>\n",
              "      <td>-1.163409</td>\n",
              "      <td>-1.142039</td>\n",
              "      <td>-3.984202</td>\n",
              "      <td>-3.492022</td>\n",
              "      <td>sad</td>\n",
              "    </tr>\n",
              "    <tr>\n",
              "      <th>3</th>\n",
              "      <td>-407.631195</td>\n",
              "      <td>99.247940</td>\n",
              "      <td>10.754412</td>\n",
              "      <td>27.849697</td>\n",
              "      <td>2.521706</td>\n",
              "      <td>14.629902</td>\n",
              "      <td>-2.598167</td>\n",
              "      <td>-11.795385</td>\n",
              "      <td>5.944390</td>\n",
              "      <td>-3.853054</td>\n",
              "      <td>...</td>\n",
              "      <td>2.614057</td>\n",
              "      <td>-12.985439</td>\n",
              "      <td>10.140218</td>\n",
              "      <td>-12.777110</td>\n",
              "      <td>-2.410043</td>\n",
              "      <td>-1.422408</td>\n",
              "      <td>-1.650963</td>\n",
              "      <td>-6.968535</td>\n",
              "      <td>-6.341195</td>\n",
              "      <td>sad</td>\n",
              "    </tr>\n",
              "    <tr>\n",
              "      <th>4</th>\n",
              "      <td>-307.760183</td>\n",
              "      <td>48.053203</td>\n",
              "      <td>18.740791</td>\n",
              "      <td>11.992347</td>\n",
              "      <td>4.532837</td>\n",
              "      <td>5.695790</td>\n",
              "      <td>-1.903840</td>\n",
              "      <td>-5.020708</td>\n",
              "      <td>1.605943</td>\n",
              "      <td>-2.924321</td>\n",
              "      <td>...</td>\n",
              "      <td>-5.029605</td>\n",
              "      <td>-3.504687</td>\n",
              "      <td>0.704473</td>\n",
              "      <td>-6.390824</td>\n",
              "      <td>-5.708613</td>\n",
              "      <td>-2.521811</td>\n",
              "      <td>-3.925443</td>\n",
              "      <td>-3.800466</td>\n",
              "      <td>-4.812770</td>\n",
              "      <td>sad</td>\n",
              "    </tr>\n",
              "    <tr>\n",
              "      <th>...</th>\n",
              "      <td>...</td>\n",
              "      <td>...</td>\n",
              "      <td>...</td>\n",
              "      <td>...</td>\n",
              "      <td>...</td>\n",
              "      <td>...</td>\n",
              "      <td>...</td>\n",
              "      <td>...</td>\n",
              "      <td>...</td>\n",
              "      <td>...</td>\n",
              "      <td>...</td>\n",
              "      <td>...</td>\n",
              "      <td>...</td>\n",
              "      <td>...</td>\n",
              "      <td>...</td>\n",
              "      <td>...</td>\n",
              "      <td>...</td>\n",
              "      <td>...</td>\n",
              "      <td>...</td>\n",
              "      <td>...</td>\n",
              "      <td>...</td>\n",
              "    </tr>\n",
              "    <tr>\n",
              "      <th>4795</th>\n",
              "      <td>-404.828807</td>\n",
              "      <td>74.550954</td>\n",
              "      <td>16.057916</td>\n",
              "      <td>-4.880032</td>\n",
              "      <td>0.563853</td>\n",
              "      <td>1.578211</td>\n",
              "      <td>-9.109502</td>\n",
              "      <td>-10.532808</td>\n",
              "      <td>-9.339563</td>\n",
              "      <td>-4.653175</td>\n",
              "      <td>...</td>\n",
              "      <td>-8.197384</td>\n",
              "      <td>-5.186045</td>\n",
              "      <td>-1.926364</td>\n",
              "      <td>-2.145762</td>\n",
              "      <td>-1.012196</td>\n",
              "      <td>1.395253</td>\n",
              "      <td>4.627178</td>\n",
              "      <td>1.291640</td>\n",
              "      <td>-5.290825</td>\n",
              "      <td>happy</td>\n",
              "    </tr>\n",
              "    <tr>\n",
              "      <th>4796</th>\n",
              "      <td>-544.494141</td>\n",
              "      <td>137.743301</td>\n",
              "      <td>8.655626</td>\n",
              "      <td>-17.808264</td>\n",
              "      <td>-1.746074</td>\n",
              "      <td>2.450433</td>\n",
              "      <td>-18.456900</td>\n",
              "      <td>-14.074989</td>\n",
              "      <td>-13.861665</td>\n",
              "      <td>-3.334609</td>\n",
              "      <td>...</td>\n",
              "      <td>-5.868994</td>\n",
              "      <td>-7.610136</td>\n",
              "      <td>-0.868871</td>\n",
              "      <td>-2.432390</td>\n",
              "      <td>3.335274</td>\n",
              "      <td>-0.408585</td>\n",
              "      <td>4.448386</td>\n",
              "      <td>-5.163003</td>\n",
              "      <td>-9.341989</td>\n",
              "      <td>happy</td>\n",
              "    </tr>\n",
              "    <tr>\n",
              "      <th>4797</th>\n",
              "      <td>-471.726929</td>\n",
              "      <td>116.254143</td>\n",
              "      <td>24.741329</td>\n",
              "      <td>-13.907975</td>\n",
              "      <td>-10.322044</td>\n",
              "      <td>3.570961</td>\n",
              "      <td>-6.128961</td>\n",
              "      <td>-3.667096</td>\n",
              "      <td>-17.369890</td>\n",
              "      <td>-3.986244</td>\n",
              "      <td>...</td>\n",
              "      <td>-6.656944</td>\n",
              "      <td>-6.157938</td>\n",
              "      <td>-2.079576</td>\n",
              "      <td>-3.540452</td>\n",
              "      <td>6.148648</td>\n",
              "      <td>-3.185794</td>\n",
              "      <td>9.152263</td>\n",
              "      <td>1.120421</td>\n",
              "      <td>-3.447200</td>\n",
              "      <td>happy</td>\n",
              "    </tr>\n",
              "    <tr>\n",
              "      <th>4798</th>\n",
              "      <td>-327.124668</td>\n",
              "      <td>48.649999</td>\n",
              "      <td>15.751025</td>\n",
              "      <td>-5.820897</td>\n",
              "      <td>-7.573235</td>\n",
              "      <td>-1.919178</td>\n",
              "      <td>-1.067227</td>\n",
              "      <td>-5.348863</td>\n",
              "      <td>-8.856018</td>\n",
              "      <td>-8.608043</td>\n",
              "      <td>...</td>\n",
              "      <td>-6.620527</td>\n",
              "      <td>-5.143201</td>\n",
              "      <td>-3.540646</td>\n",
              "      <td>-1.242687</td>\n",
              "      <td>1.519939</td>\n",
              "      <td>2.108145</td>\n",
              "      <td>2.918989</td>\n",
              "      <td>0.778003</td>\n",
              "      <td>-3.033096</td>\n",
              "      <td>happy</td>\n",
              "    </tr>\n",
              "    <tr>\n",
              "      <th>4799</th>\n",
              "      <td>-522.471436</td>\n",
              "      <td>122.185684</td>\n",
              "      <td>19.204237</td>\n",
              "      <td>-22.643139</td>\n",
              "      <td>-14.698542</td>\n",
              "      <td>1.794424</td>\n",
              "      <td>-6.908287</td>\n",
              "      <td>-6.562756</td>\n",
              "      <td>-20.089109</td>\n",
              "      <td>-4.762250</td>\n",
              "      <td>...</td>\n",
              "      <td>-4.105553</td>\n",
              "      <td>-5.817491</td>\n",
              "      <td>-1.112024</td>\n",
              "      <td>0.607468</td>\n",
              "      <td>6.450405</td>\n",
              "      <td>-2.286996</td>\n",
              "      <td>10.399771</td>\n",
              "      <td>-4.755563</td>\n",
              "      <td>-5.521990</td>\n",
              "      <td>happy</td>\n",
              "    </tr>\n",
              "  </tbody>\n",
              "</table>\n",
              "<p>4800 rows × 21 columns</p>\n",
              "</div>\n",
              "      <button class=\"colab-df-convert\" onclick=\"convertToInteractive('df-45a266ac-622e-46b8-b203-4daec1df8428')\"\n",
              "              title=\"Convert this dataframe to an interactive table.\"\n",
              "              style=\"display:none;\">\n",
              "        \n",
              "  <svg xmlns=\"http://www.w3.org/2000/svg\" height=\"24px\"viewBox=\"0 0 24 24\"\n",
              "       width=\"24px\">\n",
              "    <path d=\"M0 0h24v24H0V0z\" fill=\"none\"/>\n",
              "    <path d=\"M18.56 5.44l.94 2.06.94-2.06 2.06-.94-2.06-.94-.94-2.06-.94 2.06-2.06.94zm-11 1L8.5 8.5l.94-2.06 2.06-.94-2.06-.94L8.5 2.5l-.94 2.06-2.06.94zm10 10l.94 2.06.94-2.06 2.06-.94-2.06-.94-.94-2.06-.94 2.06-2.06.94z\"/><path d=\"M17.41 7.96l-1.37-1.37c-.4-.4-.92-.59-1.43-.59-.52 0-1.04.2-1.43.59L10.3 9.45l-7.72 7.72c-.78.78-.78 2.05 0 2.83L4 21.41c.39.39.9.59 1.41.59.51 0 1.02-.2 1.41-.59l7.78-7.78 2.81-2.81c.8-.78.8-2.07 0-2.86zM5.41 20L4 18.59l7.72-7.72 1.47 1.35L5.41 20z\"/>\n",
              "  </svg>\n",
              "      </button>\n",
              "      \n",
              "  <style>\n",
              "    .colab-df-container {\n",
              "      display:flex;\n",
              "      flex-wrap:wrap;\n",
              "      gap: 12px;\n",
              "    }\n",
              "\n",
              "    .colab-df-convert {\n",
              "      background-color: #E8F0FE;\n",
              "      border: none;\n",
              "      border-radius: 50%;\n",
              "      cursor: pointer;\n",
              "      display: none;\n",
              "      fill: #1967D2;\n",
              "      height: 32px;\n",
              "      padding: 0 0 0 0;\n",
              "      width: 32px;\n",
              "    }\n",
              "\n",
              "    .colab-df-convert:hover {\n",
              "      background-color: #E2EBFA;\n",
              "      box-shadow: 0px 1px 2px rgba(60, 64, 67, 0.3), 0px 1px 3px 1px rgba(60, 64, 67, 0.15);\n",
              "      fill: #174EA6;\n",
              "    }\n",
              "\n",
              "    [theme=dark] .colab-df-convert {\n",
              "      background-color: #3B4455;\n",
              "      fill: #D2E3FC;\n",
              "    }\n",
              "\n",
              "    [theme=dark] .colab-df-convert:hover {\n",
              "      background-color: #434B5C;\n",
              "      box-shadow: 0px 1px 3px 1px rgba(0, 0, 0, 0.15);\n",
              "      filter: drop-shadow(0px 1px 2px rgba(0, 0, 0, 0.3));\n",
              "      fill: #FFFFFF;\n",
              "    }\n",
              "  </style>\n",
              "\n",
              "      <script>\n",
              "        const buttonEl =\n",
              "          document.querySelector('#df-45a266ac-622e-46b8-b203-4daec1df8428 button.colab-df-convert');\n",
              "        buttonEl.style.display =\n",
              "          google.colab.kernel.accessAllowed ? 'block' : 'none';\n",
              "\n",
              "        async function convertToInteractive(key) {\n",
              "          const element = document.querySelector('#df-45a266ac-622e-46b8-b203-4daec1df8428');\n",
              "          const dataTable =\n",
              "            await google.colab.kernel.invokeFunction('convertToInteractive',\n",
              "                                                     [key], {});\n",
              "          if (!dataTable) return;\n",
              "\n",
              "          const docLinkHtml = 'Like what you see? Visit the ' +\n",
              "            '<a target=\"_blank\" href=https://colab.research.google.com/notebooks/data_table.ipynb>data table notebook</a>'\n",
              "            + ' to learn more about interactive tables.';\n",
              "          element.innerHTML = '';\n",
              "          dataTable['output_type'] = 'display_data';\n",
              "          await google.colab.output.renderOutput(dataTable, element);\n",
              "          const docLink = document.createElement('div');\n",
              "          docLink.innerHTML = docLinkHtml;\n",
              "          element.appendChild(docLink);\n",
              "        }\n",
              "      </script>\n",
              "    </div>\n",
              "  </div>\n",
              "  "
            ]
          },
          "metadata": {},
          "execution_count": 3
        }
      ],
      "source": [
        "df = pd.read_csv('/content/drive/MyDrive/dataset/features.csv')\n",
        "df"
      ]
    },
    {
      "cell_type": "code",
      "source": [
        "print(df[\"labels\"].value_counts())"
      ],
      "metadata": {
        "colab": {
          "base_uri": "https://localhost:8080/"
        },
        "id": "T2kkd5E1afS1",
        "outputId": "c9349375-5070-4839-85d0-c9098ea3f413"
      },
      "execution_count": null,
      "outputs": [
        {
          "output_type": "stream",
          "name": "stdout",
          "text": [
            "sad      1200\n",
            "fear     1200\n",
            "angry    1200\n",
            "happy    1200\n",
            "Name: labels, dtype: int64\n"
          ]
        }
      ]
    },
    {
      "cell_type": "code",
      "execution_count": null,
      "metadata": {
        "id": "lCogoIEwvhV0"
      },
      "outputs": [],
      "source": [
        "X = df.iloc[: ,:-1].values\n",
        "Y = df['labels'].values"
      ]
    },
    {
      "cell_type": "code",
      "execution_count": null,
      "metadata": {
        "id": "K0SgTvnR3KKt"
      },
      "outputs": [],
      "source": [
        "encoder = OneHotEncoder()\n",
        "Y = encoder.fit_transform(np.array(Y).reshape(-1,1)).toarray()"
      ]
    },
    {
      "cell_type": "code",
      "source": [
        "Y"
      ],
      "metadata": {
        "colab": {
          "base_uri": "https://localhost:8080/"
        },
        "id": "rxVGSXPsBDu7",
        "outputId": "386f04ee-b953-4d86-8fd8-1cd35a10638f"
      },
      "execution_count": null,
      "outputs": [
        {
          "output_type": "execute_result",
          "data": {
            "text/plain": [
              "array([[0., 0., 0., 1.],\n",
              "       [0., 0., 0., 1.],\n",
              "       [0., 0., 0., 1.],\n",
              "       ...,\n",
              "       [0., 0., 1., 0.],\n",
              "       [0., 0., 1., 0.],\n",
              "       [0., 0., 1., 0.]])"
            ]
          },
          "metadata": {},
          "execution_count": 7
        }
      ]
    },
    {
      "cell_type": "code",
      "execution_count": null,
      "metadata": {
        "id": "Fv2Mu9S4108p",
        "colab": {
          "base_uri": "https://localhost:8080/"
        },
        "outputId": "8766b19c-def4-4499-db1c-4907a6433c08"
      },
      "outputs": [
        {
          "output_type": "execute_result",
          "data": {
            "text/plain": [
              "((3600, 20), (3600, 4), (1200, 20), (1200, 4))"
            ]
          },
          "metadata": {},
          "execution_count": 8
        }
      ],
      "source": [
        "x_train, x_test, y_train, y_test = train_test_split(X, Y, random_state=0, shuffle=True)\n",
        "x_train.shape, y_train.shape, x_test.shape, y_test.shape"
      ]
    },
    {
      "cell_type": "code",
      "source": [
        "# # scaling our data with sklearn's Standard scaler\n",
        "# scaler = StandardScaler()\n",
        "# x_train = scaler.fit_transform(x_train)\n",
        "# x_test = scaler.transform(x_test)\n",
        "# x_train.shape, y_train.shape, x_test.shape, y_test.shape"
      ],
      "metadata": {
        "id": "r3yQs9Cio6DE"
      },
      "execution_count": null,
      "outputs": []
    },
    {
      "cell_type": "code",
      "source": [
        "x_train"
      ],
      "metadata": {
        "colab": {
          "base_uri": "https://localhost:8080/"
        },
        "id": "mY_-6_MURiUj",
        "outputId": "405641f8-10c7-4e65-c35a-11f8d9bf6cc8"
      },
      "execution_count": null,
      "outputs": [
        {
          "output_type": "execute_result",
          "data": {
            "text/plain": [
              "array([[-2.24568401e+02,  1.26692330e+01, -5.39226020e+00, ...,\n",
              "         4.54102287e+00,  9.36000869e-01,  2.62239864e+00],\n",
              "       [-3.64428741e+02,  5.62028198e+01, -1.56844997e+01, ...,\n",
              "         2.42741108e+00, -8.01279068e+00, -1.24922523e+01],\n",
              "       [-2.69383057e+02,  8.66980820e+01, -1.39707886e-03, ...,\n",
              "        -2.64127660e+00, -1.45604296e+01, -3.38906980e+00],\n",
              "       ...,\n",
              "       [-3.05682373e+02,  5.79351578e+01, -1.68450603e+01, ...,\n",
              "         2.28008442e+01,  5.24152565e+00,  1.62281799e+01],\n",
              "       [-4.07372955e+02,  6.37802849e+01, -1.70851307e+01, ...,\n",
              "         1.89059699e+00, -3.86649394e+00, -7.35046673e+00],\n",
              "       [-4.65813293e+02,  1.09087921e+02, -5.48357153e+00, ...,\n",
              "        -8.66455257e-01, -7.07143021e+00, -8.41489697e+00]])"
            ]
          },
          "metadata": {},
          "execution_count": 10
        }
      ]
    },
    {
      "cell_type": "code",
      "source": [
        "# making our data compatible to model.\n",
        "x_train = np.expand_dims(x_train, axis=2)\n",
        "x_test = np.expand_dims(x_test, axis=2)\n",
        "x_train.shape, y_train.shape, x_test.shape, y_test.shape"
      ],
      "metadata": {
        "id": "KOEY0wFFeHEc",
        "colab": {
          "base_uri": "https://localhost:8080/"
        },
        "outputId": "37090425-288a-4226-db11-9a5f9875f419"
      },
      "execution_count": null,
      "outputs": [
        {
          "output_type": "execute_result",
          "data": {
            "text/plain": [
              "((3600, 20, 1), (3600, 4), (1200, 20, 1), (1200, 4))"
            ]
          },
          "metadata": {},
          "execution_count": 11
        }
      ]
    },
    {
      "cell_type": "markdown",
      "source": [
        "# 3. Model CNN"
      ],
      "metadata": {
        "id": "-sQ27mUI721Y"
      }
    },
    {
      "cell_type": "code",
      "source": [
        "model_cnn=Sequential()\n",
        "model_cnn.add(Conv1D(256, kernel_size=5, strides=1, padding='same', activation='relu', input_shape=(x_train.shape[1], 1)))\n",
        "model_cnn.add(MaxPooling1D(pool_size=5, strides = 2, padding = 'same'))\n",
        "\n",
        "model_cnn.add(Conv1D(256, kernel_size=5, strides=1, padding='same', activation='relu'))\n",
        "model_cnn.add(MaxPooling1D(pool_size=5, strides = 2, padding = 'same'))\n",
        "model_cnn.add(Dropout(0.2))\n",
        "\n",
        "model_cnn.add(Conv1D(128, kernel_size=5, strides=1, padding='same', activation='relu'))\n",
        "model_cnn.add(MaxPooling1D(pool_size=5, strides = 2, padding = 'same'))\n",
        "model_cnn.add(Dropout(0.2))\n",
        "\n",
        "model_cnn.add(Conv1D(64, kernel_size=5, strides=1, padding='same', activation='relu'))\n",
        "model_cnn.add(MaxPooling1D(pool_size=5, strides = 2, padding = 'same'))\n",
        "model_cnn.add(Dropout(0.2))\n",
        "\n",
        "model_cnn.add(Flatten())\n",
        "model_cnn.add(Dense(units=32, activation='relu'))\n",
        "model_cnn.add(Dropout(0.2))\n",
        "\n",
        "model_cnn.add(Dense(4, activation='softmax'))\n",
        "model_cnn.compile(optimizer = 'adam' , loss = 'categorical_crossentropy' , metrics = ['accuracy'])\n",
        "\n",
        "model_cnn.summary()"
      ],
      "metadata": {
        "id": "EXtDyF6UeJS8",
        "colab": {
          "base_uri": "https://localhost:8080/"
        },
        "outputId": "6ee30438-e2af-43b7-cd2d-9351c1e28a65"
      },
      "execution_count": null,
      "outputs": [
        {
          "output_type": "stream",
          "name": "stdout",
          "text": [
            "Model: \"sequential\"\n",
            "_________________________________________________________________\n",
            " Layer (type)                Output Shape              Param #   \n",
            "=================================================================\n",
            " conv1d (Conv1D)             (None, 20, 256)           1536      \n",
            "                                                                 \n",
            " max_pooling1d (MaxPooling1D  (None, 10, 256)          0         \n",
            " )                                                               \n",
            "                                                                 \n",
            " conv1d_1 (Conv1D)           (None, 10, 256)           327936    \n",
            "                                                                 \n",
            " max_pooling1d_1 (MaxPooling  (None, 5, 256)           0         \n",
            " 1D)                                                             \n",
            "                                                                 \n",
            " dropout (Dropout)           (None, 5, 256)            0         \n",
            "                                                                 \n",
            " conv1d_2 (Conv1D)           (None, 5, 128)            163968    \n",
            "                                                                 \n",
            " max_pooling1d_2 (MaxPooling  (None, 3, 128)           0         \n",
            " 1D)                                                             \n",
            "                                                                 \n",
            " dropout_1 (Dropout)         (None, 3, 128)            0         \n",
            "                                                                 \n",
            " conv1d_3 (Conv1D)           (None, 3, 64)             41024     \n",
            "                                                                 \n",
            " max_pooling1d_3 (MaxPooling  (None, 2, 64)            0         \n",
            " 1D)                                                             \n",
            "                                                                 \n",
            " dropout_2 (Dropout)         (None, 2, 64)             0         \n",
            "                                                                 \n",
            " flatten (Flatten)           (None, 128)               0         \n",
            "                                                                 \n",
            " dense (Dense)               (None, 32)                4128      \n",
            "                                                                 \n",
            " dropout_3 (Dropout)         (None, 32)                0         \n",
            "                                                                 \n",
            " dense_1 (Dense)             (None, 4)                 132       \n",
            "                                                                 \n",
            "=================================================================\n",
            "Total params: 538,724\n",
            "Trainable params: 538,724\n",
            "Non-trainable params: 0\n",
            "_________________________________________________________________\n"
          ]
        }
      ]
    },
    {
      "cell_type": "code",
      "source": [
        "history=model_cnn.fit(x_train, y_train, batch_size=64, epochs=7, validation_data=(x_test, y_test))"
      ],
      "metadata": {
        "id": "WDWsAPcQePI6",
        "colab": {
          "base_uri": "https://localhost:8080/"
        },
        "outputId": "fb516eb5-9149-4791-9cbe-04bf4691ab8d"
      },
      "execution_count": null,
      "outputs": [
        {
          "output_type": "stream",
          "name": "stdout",
          "text": [
            "Epoch 1/7\n",
            "57/57 [==============================] - 16s 234ms/step - loss: 2.2256 - accuracy: 0.3544 - val_loss: 0.8656 - val_accuracy: 0.7050\n",
            "Epoch 2/7\n",
            "57/57 [==============================] - 13s 220ms/step - loss: 0.8356 - accuracy: 0.6244 - val_loss: 0.5648 - val_accuracy: 0.7517\n",
            "Epoch 3/7\n",
            "57/57 [==============================] - 7s 123ms/step - loss: 0.5564 - accuracy: 0.7458 - val_loss: 0.3417 - val_accuracy: 0.9283\n",
            "Epoch 4/7\n",
            "57/57 [==============================] - 7s 124ms/step - loss: 0.3947 - accuracy: 0.8417 - val_loss: 0.2737 - val_accuracy: 0.8850\n",
            "Epoch 5/7\n",
            "57/57 [==============================] - 7s 123ms/step - loss: 0.2494 - accuracy: 0.9264 - val_loss: 0.1233 - val_accuracy: 0.9617\n",
            "Epoch 6/7\n",
            "57/57 [==============================] - 7s 123ms/step - loss: 0.1349 - accuracy: 0.9550 - val_loss: 0.0704 - val_accuracy: 0.9808\n",
            "Epoch 7/7\n",
            "57/57 [==============================] - 7s 124ms/step - loss: 0.1400 - accuracy: 0.9594 - val_loss: 0.0955 - val_accuracy: 0.9675\n"
          ]
        }
      ]
    },
    {
      "cell_type": "code",
      "source": [
        "print(\"Accuracy of our model on test data : \" , model_cnn.evaluate(x_test,y_test)[1]*100 , \"%\")\n",
        "\n",
        "epochs = [i for i in range(7)]\n",
        "fig , ax = plt.subplots(1,2)\n",
        "train_acc = history.history['accuracy']\n",
        "train_loss = history.history['loss']\n",
        "test_acc = history.history['val_accuracy']\n",
        "test_loss = history.history['val_loss']\n",
        "\n",
        "fig.set_size_inches(20,6)\n",
        "ax[0].plot(epochs , train_loss , label = 'Training Loss')\n",
        "ax[0].plot(epochs , test_loss , label = 'Testing Loss')\n",
        "ax[0].set_title('Training & Testing Loss')\n",
        "ax[0].legend()\n",
        "ax[0].set_xlabel(\"Epochs\")\n",
        "\n",
        "ax[1].plot(epochs , train_acc , label = 'Training Accuracy')\n",
        "ax[1].plot(epochs , test_acc , label = 'Testing Accuracy')\n",
        "ax[1].set_title('Training & Testing Accuracy')\n",
        "ax[1].legend()\n",
        "ax[1].set_xlabel(\"Epochs\")\n",
        "plt.show()"
      ],
      "metadata": {
        "id": "IXPfDZ40eT2l",
        "colab": {
          "base_uri": "https://localhost:8080/",
          "height": 439
        },
        "outputId": "d4942907-d5d8-410e-dd92-1a092666310e"
      },
      "execution_count": null,
      "outputs": [
        {
          "output_type": "stream",
          "name": "stdout",
          "text": [
            "38/38 [==============================] - 0s 10ms/step - loss: 0.0955 - accuracy: 0.9675\n",
            "Accuracy of our model on test data :  96.74999713897705 %\n"
          ]
        },
        {
          "output_type": "display_data",
          "data": {
            "text/plain": [
              "<Figure size 1440x432 with 2 Axes>"
            ],
            "image/png": "[encoded data removed]"
          },
          "metadata": {
            "needs_background": "light"
          }
        }
      ]
    },
    {
      "cell_type": "code",
      "source": [
        "# predicting on test data.\n",
        "pred_test_cnn = model_cnn.predict(x_test)\n",
        "y_pred_cnn = encoder.inverse_transform(pred_test_cnn)\n",
        "\n",
        "y_test_cnn = encoder.inverse_transform(y_test)"
      ],
      "metadata": {
        "id": "Z53EUMn4hIvw"
      },
      "execution_count": null,
      "outputs": []
    },
    {
      "cell_type": "code",
      "source": [
        "pred_test_cnn"
      ],
      "metadata": {
        "colab": {
          "base_uri": "https://localhost:8080/"
        },
        "id": "ahLkH5sDKvGG",
        "outputId": "3047afc7-f6d4-4ca6-a47f-47dfc765d2d4"
      },
      "execution_count": null,
      "outputs": [
        {
          "output_type": "execute_result",
          "data": {
            "text/plain": [
              "array([[4.8101961e-04, 9.9548799e-01, 4.0197554e-03, 1.1308808e-05],\n",
              "       [3.0629084e-09, 4.0059103e-09, 4.4975965e-09, 1.0000000e+00],\n",
              "       [9.7351408e-01, 1.4566103e-02, 1.1416701e-02, 5.0311151e-04],\n",
              "       ...,\n",
              "       [9.9902678e-01, 3.0343336e-04, 6.6924043e-04, 5.6721939e-07],\n",
              "       [2.1677924e-06, 8.0799609e-06, 9.9998975e-01, 7.8930702e-09],\n",
              "       [1.3946052e-04, 1.7187999e-04, 2.6506232e-04, 9.9942362e-01]],\n",
              "      dtype=float32)"
            ]
          },
          "metadata": {},
          "execution_count": 16
        }
      ]
    },
    {
      "cell_type": "code",
      "source": [
        "df = pd.DataFrame(columns=['Predicted Labels', 'Actual Labels'])\n",
        "df['Predicted Labels'] = y_pred_cnn.flatten()\n",
        "df['Actual Labels'] = y_test_cnn.flatten()\n",
        "\n",
        "df"
      ],
      "metadata": {
        "id": "s9DcONNyhQ1f",
        "colab": {
          "base_uri": "https://localhost:8080/",
          "height": 424
        },
        "outputId": "feef4a7a-e252-46bc-e155-82e7c9cb49a8"
      },
      "execution_count": null,
      "outputs": [
        {
          "output_type": "execute_result",
          "data": {
            "text/plain": [
              "     Predicted Labels Actual Labels\n",
              "0                fear          fear\n",
              "1                 sad           sad\n",
              "2               angry         angry\n",
              "3                fear          fear\n",
              "4                fear          fear\n",
              "...               ...           ...\n",
              "1195            angry         angry\n",
              "1196             fear          fear\n",
              "1197            angry         angry\n",
              "1198            happy         happy\n",
              "1199              sad           sad\n",
              "\n",
              "[1200 rows x 2 columns]"
            ],
            "text/html": [
              "\n",
              "  <div id=\"df-eaee1996-d0c3-4a8b-910c-9ddcf4311c35\">\n",
              "    <div class=\"colab-df-container\">\n",
              "      <div>\n",
              "<style scoped>\n",
              "    .dataframe tbody tr th:only-of-type {\n",
              "        vertical-align: middle;\n",
              "    }\n",
              "\n",
              "    .dataframe tbody tr th {\n",
              "        vertical-align: top;\n",
              "    }\n",
              "\n",
              "    .dataframe thead th {\n",
              "        text-align: right;\n",
              "    }\n",
              "</style>\n",
              "<table border=\"1\" class=\"dataframe\">\n",
              "  <thead>\n",
              "    <tr style=\"text-align: right;\">\n",
              "      <th></th>\n",
              "      <th>Predicted Labels</th>\n",
              "      <th>Actual Labels</th>\n",
              "    </tr>\n",
              "  </thead>\n",
              "  <tbody>\n",
              "    <tr>\n",
              "      <th>0</th>\n",
              "      <td>fear</td>\n",
              "      <td>fear</td>\n",
              "    </tr>\n",
              "    <tr>\n",
              "      <th>1</th>\n",
              "      <td>sad</td>\n",
              "      <td>sad</td>\n",
              "    </tr>\n",
              "    <tr>\n",
              "      <th>2</th>\n",
              "      <td>angry</td>\n",
              "      <td>angry</td>\n",
              "    </tr>\n",
              "    <tr>\n",
              "      <th>3</th>\n",
              "      <td>fear</td>\n",
              "      <td>fear</td>\n",
              "    </tr>\n",
              "    <tr>\n",
              "      <th>4</th>\n",
              "      <td>fear</td>\n",
              "      <td>fear</td>\n",
              "    </tr>\n",
              "    <tr>\n",
              "      <th>...</th>\n",
              "      <td>...</td>\n",
              "      <td>...</td>\n",
              "    </tr>\n",
              "    <tr>\n",
              "      <th>1195</th>\n",
              "      <td>angry</td>\n",
              "      <td>angry</td>\n",
              "    </tr>\n",
              "    <tr>\n",
              "      <th>1196</th>\n",
              "      <td>fear</td>\n",
              "      <td>fear</td>\n",
              "    </tr>\n",
              "    <tr>\n",
              "      <th>1197</th>\n",
              "      <td>angry</td>\n",
              "      <td>angry</td>\n",
              "    </tr>\n",
              "    <tr>\n",
              "      <th>1198</th>\n",
              "      <td>happy</td>\n",
              "      <td>happy</td>\n",
              "    </tr>\n",
              "    <tr>\n",
              "      <th>1199</th>\n",
              "      <td>sad</td>\n",
              "      <td>sad</td>\n",
              "    </tr>\n",
              "  </tbody>\n",
              "</table>\n",
              "<p>1200 rows × 2 columns</p>\n",
              "</div>\n",
              "      <button class=\"colab-df-convert\" onclick=\"convertToInteractive('df-eaee1996-d0c3-4a8b-910c-9ddcf4311c35')\"\n",
              "              title=\"Convert this dataframe to an interactive table.\"\n",
              "              style=\"display:none;\">\n",
              "        \n",
              "  <svg xmlns=\"http://www.w3.org/2000/svg\" height=\"24px\"viewBox=\"0 0 24 24\"\n",
              "       width=\"24px\">\n",
              "    <path d=\"M0 0h24v24H0V0z\" fill=\"none\"/>\n",
              "    <path d=\"M18.56 5.44l.94 2.06.94-2.06 2.06-.94-2.06-.94-.94-2.06-.94 2.06-2.06.94zm-11 1L8.5 8.5l.94-2.06 2.06-.94-2.06-.94L8.5 2.5l-.94 2.06-2.06.94zm10 10l.94 2.06.94-2.06 2.06-.94-2.06-.94-.94-2.06-.94 2.06-2.06.94z\"/><path d=\"M17.41 7.96l-1.37-1.37c-.4-.4-.92-.59-1.43-.59-.52 0-1.04.2-1.43.59L10.3 9.45l-7.72 7.72c-.78.78-.78 2.05 0 2.83L4 21.41c.39.39.9.59 1.41.59.51 0 1.02-.2 1.41-.59l7.78-7.78 2.81-2.81c.8-.78.8-2.07 0-2.86zM5.41 20L4 18.59l7.72-7.72 1.47 1.35L5.41 20z\"/>\n",
              "  </svg>\n",
              "      </button>\n",
              "      \n",
              "  <style>\n",
              "    .colab-df-container {\n",
              "      display:flex;\n",
              "      flex-wrap:wrap;\n",
              "      gap: 12px;\n",
              "    }\n",
              "\n",
              "    .colab-df-convert {\n",
              "      background-color: #E8F0FE;\n",
              "      border: none;\n",
              "      border-radius: 50%;\n",
              "      cursor: pointer;\n",
              "      display: none;\n",
              "      fill: #1967D2;\n",
              "      height: 32px;\n",
              "      padding: 0 0 0 0;\n",
              "      width: 32px;\n",
              "    }\n",
              "\n",
              "    .colab-df-convert:hover {\n",
              "      background-color: #E2EBFA;\n",
              "      box-shadow: 0px 1px 2px rgba(60, 64, 67, 0.3), 0px 1px 3px 1px rgba(60, 64, 67, 0.15);\n",
              "      fill: #174EA6;\n",
              "    }\n",
              "\n",
              "    [theme=dark] .colab-df-convert {\n",
              "      background-color: #3B4455;\n",
              "      fill: #D2E3FC;\n",
              "    }\n",
              "\n",
              "    [theme=dark] .colab-df-convert:hover {\n",
              "      background-color: #434B5C;\n",
              "      box-shadow: 0px 1px 3px 1px rgba(0, 0, 0, 0.15);\n",
              "      filter: drop-shadow(0px 1px 2px rgba(0, 0, 0, 0.3));\n",
              "      fill: #FFFFFF;\n",
              "    }\n",
              "  </style>\n",
              "\n",
              "      <script>\n",
              "        const buttonEl =\n",
              "          document.querySelector('#df-eaee1996-d0c3-4a8b-910c-9ddcf4311c35 button.colab-df-convert');\n",
              "        buttonEl.style.display =\n",
              "          google.colab.kernel.accessAllowed ? 'block' : 'none';\n",
              "\n",
              "        async function convertToInteractive(key) {\n",
              "          const element = document.querySelector('#df-eaee1996-d0c3-4a8b-910c-9ddcf4311c35');\n",
              "          const dataTable =\n",
              "            await google.colab.kernel.invokeFunction('convertToInteractive',\n",
              "                                                     [key], {});\n",
              "          if (!dataTable) return;\n",
              "\n",
              "          const docLinkHtml = 'Like what you see? Visit the ' +\n",
              "            '<a target=\"_blank\" href=https://colab.research.google.com/notebooks/data_table.ipynb>data table notebook</a>'\n",
              "            + ' to learn more about interactive tables.';\n",
              "          element.innerHTML = '';\n",
              "          dataTable['output_type'] = 'display_data';\n",
              "          await google.colab.output.renderOutput(dataTable, element);\n",
              "          const docLink = document.createElement('div');\n",
              "          docLink.innerHTML = docLinkHtml;\n",
              "          element.appendChild(docLink);\n",
              "        }\n",
              "      </script>\n",
              "    </div>\n",
              "  </div>\n",
              "  "
            ]
          },
          "metadata": {},
          "execution_count": 17
        }
      ]
    },
    {
      "cell_type": "code",
      "source": [
        "cm = confusion_matrix(y_test_cnn, y_pred_cnn)\n",
        "plt.figure(figsize = (12, 10))\n",
        "cm = pd.DataFrame(cm , index = [i for i in encoder.categories_] , columns = [i for i in encoder.categories_])\n",
        "sns.heatmap(cm, linecolor='white', cmap='Blues', linewidth=1, annot=True, fmt='')\n",
        "plt.title('Confusion Matrix', size=20)\n",
        "plt.xlabel('Predicted Labels', size=14)\n",
        "plt.ylabel('Actual Labels', size=14)\n",
        "plt.show()"
      ],
      "metadata": {
        "id": "hUjNqEwrhS5I",
        "colab": {
          "base_uri": "https://localhost:8080/",
          "height": 630
        },
        "outputId": "6b3b7e1a-deb5-4abd-9e34-a52c34b2bc57"
      },
      "execution_count": null,
      "outputs": [
        {
          "output_type": "display_data",
          "data": {
            "text/plain": [
              "<Figure size 864x720 with 2 Axes>"
            ],
            "image/png": "[encoded data removed]"
          },
          "metadata": {
            "needs_background": "light"
          }
        }
      ]
    },
    {
      "cell_type": "code",
      "source": [
        "print(classification_report(y_test_cnn, y_pred_cnn))"
      ],
      "metadata": {
        "id": "gPDNeN6PhVhL",
        "colab": {
          "base_uri": "https://localhost:8080/"
        },
        "outputId": "c5af5226-a783-4138-86d2-55ff31d71fb7"
      },
      "execution_count": null,
      "outputs": [
        {
          "output_type": "stream",
          "name": "stdout",
          "text": [
            "              precision    recall  f1-score   support\n",
            "\n",
            "       angry       0.99      0.93      0.96       319\n",
            "        fear       0.94      0.95      0.95       283\n",
            "       happy       0.95      1.00      0.97       297\n",
            "         sad       0.99      1.00      1.00       301\n",
            "\n",
            "    accuracy                           0.97      1200\n",
            "   macro avg       0.97      0.97      0.97      1200\n",
            "weighted avg       0.97      0.97      0.97      1200\n",
            "\n"
          ]
        }
      ]
    },
    {
      "cell_type": "markdown",
      "source": [
        "# 4. Model LSTM"
      ],
      "metadata": {
        "id": "GQ34nsFfiXcC"
      }
    },
    {
      "cell_type": "code",
      "source": [
        "model_lstm=Sequential()\n",
        "model_lstm.add(LSTM(256, activation='relu', return_sequences=True, input_shape=(x_train.shape[1], 1)))\n",
        "\n",
        "model_lstm.add(LSTM(256, activation='relu', return_sequences=True))\n",
        "model_lstm.add(Dropout(0.2))\n",
        "\n",
        "model_lstm.add(LSTM(128, activation='relu', return_sequences=True))\n",
        "model_lstm.add(Dropout(0.2))\n",
        "\n",
        "model_lstm.add(LSTM(64, activation='relu'))\n",
        "model_lstm.add(Dropout(0.2))\n",
        "\n",
        "model_lstm.add(Dense(units=32, activation='relu'))\n",
        "model_lstm.add(Dropout(0.2))\n",
        "\n",
        "model_lstm.add(Dense(4, activation='softmax'))\n",
        "model_lstm.compile(optimizer = 'adam' , loss = 'categorical_crossentropy' , metrics = ['accuracy'])\n",
        "\n",
        "model_lstm.summary()"
      ],
      "metadata": {
        "colab": {
          "base_uri": "https://localhost:8080/"
        },
        "outputId": "ccaa8206-6d71-4a70-99b3-cbfd7ca32e71",
        "id": "LUBOfJGZiXcE"
      },
      "execution_count": null,
      "outputs": [
        {
          "output_type": "stream",
          "name": "stdout",
          "text": [
            "Model: \"sequential_1\"\n",
            "_________________________________________________________________\n",
            " Layer (type)                Output Shape              Param #   \n",
            "=================================================================\n",
            " lstm (LSTM)                 (None, 20, 256)           264192    \n",
            "                                                                 \n",
            " lstm_1 (LSTM)               (None, 20, 256)           525312    \n",
            "                                                                 \n",
            " dropout_4 (Dropout)         (None, 20, 256)           0         \n",
            "                                                                 \n",
            " lstm_2 (LSTM)               (None, 20, 128)           197120    \n",
            "                                                                 \n",
            " dropout_5 (Dropout)         (None, 20, 128)           0         \n",
            "                                                                 \n",
            " lstm_3 (LSTM)               (None, 64)                49408     \n",
            "                                                                 \n",
            " dropout_6 (Dropout)         (None, 64)                0         \n",
            "                                                                 \n",
            " dense_2 (Dense)             (None, 32)                2080      \n",
            "                                                                 \n",
            " dropout_7 (Dropout)         (None, 32)                0         \n",
            "                                                                 \n",
            " dense_3 (Dense)             (None, 4)                 132       \n",
            "                                                                 \n",
            "=================================================================\n",
            "Total params: 1,038,244\n",
            "Trainable params: 1,038,244\n",
            "Non-trainable params: 0\n",
            "_________________________________________________________________\n"
          ]
        }
      ]
    },
    {
      "cell_type": "code",
      "source": [
        "history=model_lstm.fit(x_train, y_train, batch_size=64, epochs=9, validation_data=(x_test, y_test))"
      ],
      "metadata": {
        "colab": {
          "base_uri": "https://localhost:8080/"
        },
        "outputId": "f94f09da-e322-4e76-d9fb-eb16aff06ebb",
        "id": "MQN2Bz9YiXcG"
      },
      "execution_count": null,
      "outputs": [
        {
          "output_type": "stream",
          "name": "stdout",
          "text": [
            "Epoch 1/9\n",
            "57/57 [==============================] - 27s 376ms/step - loss: 11.2458 - accuracy: 0.2478 - val_loss: 5.3479 - val_accuracy: 0.1933\n",
            "Epoch 2/9\n",
            "57/57 [==============================] - 23s 406ms/step - loss: 8.8980 - accuracy: 0.2406 - val_loss: 1.7255 - val_accuracy: 0.2508\n",
            "Epoch 3/9\n",
            "57/57 [==============================] - 21s 364ms/step - loss: 1.6159 - accuracy: 0.2436 - val_loss: 1.3882 - val_accuracy: 0.2508\n",
            "Epoch 4/9\n",
            "57/57 [==============================] - 21s 366ms/step - loss: 1.5142 - accuracy: 0.2464 - val_loss: 1.3880 - val_accuracy: 0.2508\n",
            "Epoch 5/9\n",
            "57/57 [==============================] - 21s 367ms/step - loss: 1.4191 - accuracy: 0.2483 - val_loss: 1.3880 - val_accuracy: 0.2508\n",
            "Epoch 6/9\n",
            "57/57 [==============================] - 21s 367ms/step - loss: 1.4372 - accuracy: 0.2536 - val_loss: 1.3876 - val_accuracy: 0.2508\n",
            "Epoch 7/9\n",
            "57/57 [==============================] - 21s 366ms/step - loss: 1.4188 - accuracy: 0.2461 - val_loss: 1.3874 - val_accuracy: 0.2508\n",
            "Epoch 8/9\n",
            "57/57 [==============================] - 21s 375ms/step - loss: 1.3953 - accuracy: 0.2464 - val_loss: 1.3874 - val_accuracy: 0.2358\n",
            "Epoch 9/9\n",
            "57/57 [==============================] - 21s 377ms/step - loss: 1.3985 - accuracy: 0.2411 - val_loss: 1.3873 - val_accuracy: 0.2358\n"
          ]
        }
      ]
    },
    {
      "cell_type": "code",
      "source": [
        "print(\"Accuracy of our model on test data : \" , model_lstm.evaluate(x_test,y_test)[1]*100 , \"%\")\n",
        "\n",
        "epochs = [i for i in range(9)]\n",
        "fig , ax = plt.subplots(1,2)\n",
        "train_acc = history.history['accuracy']\n",
        "train_loss = history.history['loss']\n",
        "test_acc = history.history['val_accuracy']\n",
        "test_loss = history.history['val_loss']\n",
        "\n",
        "fig.set_size_inches(20,6)\n",
        "ax[0].plot(epochs , train_loss , label = 'Training Loss')\n",
        "ax[0].plot(epochs , test_loss , label = 'Testing Loss')\n",
        "ax[0].set_title('Training & Testing Loss')\n",
        "ax[0].legend()\n",
        "ax[0].set_xlabel(\"Epochs\")\n",
        "\n",
        "ax[1].plot(epochs , train_acc , label = 'Training Accuracy')\n",
        "ax[1].plot(epochs , test_acc , label = 'Testing Accuracy')\n",
        "ax[1].set_title('Training & Testing Accuracy')\n",
        "ax[1].legend()\n",
        "ax[1].set_xlabel(\"Epochs\")\n",
        "plt.show()"
      ],
      "metadata": {
        "colab": {
          "base_uri": "https://localhost:8080/",
          "height": 439
        },
        "outputId": "b43bf1ab-3bdc-4ed6-8a46-bac536934ed3",
        "id": "0St7kkGdiXcH"
      },
      "execution_count": null,
      "outputs": [
        {
          "output_type": "stream",
          "name": "stdout",
          "text": [
            "38/38 [==============================] - 3s 70ms/step - loss: 1.3873 - accuracy: 0.2358\n",
            "Accuracy of our model on test data :  23.58333319425583 %\n"
          ]
        },
        {
          "output_type": "display_data",
          "data": {
            "text/plain": [
              "<Figure size 1440x432 with 2 Axes>"
            ],
            "image/png": "[encoded data removed]"
          },
          "metadata": {
            "needs_background": "light"
          }
        }
      ]
    },
    {
      "cell_type": "code",
      "source": [
        "# predicting on test data.\n",
        "pred_test_lstm = model_lstm.predict(x_test)\n",
        "y_pred_lstm = encoder.inverse_transform(pred_test_lstm)\n",
        "\n",
        "y_test_lstm = encoder.inverse_transform(y_test)"
      ],
      "metadata": {
        "id": "xSiz2XoriXcI"
      },
      "execution_count": null,
      "outputs": []
    },
    {
      "cell_type": "code",
      "source": [
        "pred_test_lstm"
      ],
      "metadata": {
        "colab": {
          "base_uri": "https://localhost:8080/"
        },
        "outputId": "2c847a89-2e6b-46f4-e236-b11c64206d6e",
        "id": "tqHlFzepiXcI"
      },
      "execution_count": null,
      "outputs": [
        {
          "output_type": "execute_result",
          "data": {
            "text/plain": [
              "array([[0.24248742, 0.2557761 , 0.2466721 , 0.2550643 ],\n",
              "       [0.24259505, 0.25565234, 0.24671099, 0.25504157],\n",
              "       [0.24246271, 0.2558046 , 0.24666317, 0.25506955],\n",
              "       ...,\n",
              "       [0.24247928, 0.25578552, 0.24666916, 0.25506604],\n",
              "       [0.24249329, 0.2557694 , 0.24667422, 0.2550631 ],\n",
              "       [0.24243923, 0.2558316 , 0.24665467, 0.25507453]], dtype=float32)"
            ]
          },
          "metadata": {},
          "execution_count": 24
        }
      ]
    },
    {
      "cell_type": "code",
      "source": [
        "df = pd.DataFrame(columns=['Predicted Labels', 'Actual Labels'])\n",
        "df['Predicted Labels'] = y_pred_lstm.flatten()\n",
        "df['Actual Labels'] = y_test_lstm.flatten()\n",
        "\n",
        "df"
      ],
      "metadata": {
        "colab": {
          "base_uri": "https://localhost:8080/",
          "height": 424
        },
        "outputId": "b122d49c-4650-43d4-e72d-16d83fc6495f",
        "id": "-aELhix7iXcJ"
      },
      "execution_count": null,
      "outputs": [
        {
          "output_type": "execute_result",
          "data": {
            "text/plain": [
              "     Predicted Labels Actual Labels\n",
              "0                fear          fear\n",
              "1                fear           sad\n",
              "2                fear         angry\n",
              "3                fear          fear\n",
              "4                fear          fear\n",
              "...               ...           ...\n",
              "1195             fear         angry\n",
              "1196             fear          fear\n",
              "1197             fear         angry\n",
              "1198             fear         happy\n",
              "1199             fear           sad\n",
              "\n",
              "[1200 rows x 2 columns]"
            ],
            "text/html": [
              "\n",
              "  <div id=\"df-84e8d918-fc96-4f6e-bcd6-038a6dade90c\">\n",
              "    <div class=\"colab-df-container\">\n",
              "      <div>\n",
              "<style scoped>\n",
              "    .dataframe tbody tr th:only-of-type {\n",
              "        vertical-align: middle;\n",
              "    }\n",
              "\n",
              "    .dataframe tbody tr th {\n",
              "        vertical-align: top;\n",
              "    }\n",
              "\n",
              "    .dataframe thead th {\n",
              "        text-align: right;\n",
              "    }\n",
              "</style>\n",
              "<table border=\"1\" class=\"dataframe\">\n",
              "  <thead>\n",
              "    <tr style=\"text-align: right;\">\n",
              "      <th></th>\n",
              "      <th>Predicted Labels</th>\n",
              "      <th>Actual Labels</th>\n",
              "    </tr>\n",
              "  </thead>\n",
              "  <tbody>\n",
              "    <tr>\n",
              "      <th>0</th>\n",
              "      <td>fear</td>\n",
              "      <td>fear</td>\n",
              "    </tr>\n",
              "    <tr>\n",
              "      <th>1</th>\n",
              "      <td>fear</td>\n",
              "      <td>sad</td>\n",
              "    </tr>\n",
              "    <tr>\n",
              "      <th>2</th>\n",
              "      <td>fear</td>\n",
              "      <td>angry</td>\n",
              "    </tr>\n",
              "    <tr>\n",
              "      <th>3</th>\n",
              "      <td>fear</td>\n",
              "      <td>fear</td>\n",
              "    </tr>\n",
              "    <tr>\n",
              "      <th>4</th>\n",
              "      <td>fear</td>\n",
              "      <td>fear</td>\n",
              "    </tr>\n",
              "    <tr>\n",
              "      <th>...</th>\n",
              "      <td>...</td>\n",
              "      <td>...</td>\n",
              "    </tr>\n",
              "    <tr>\n",
              "      <th>1195</th>\n",
              "      <td>fear</td>\n",
              "      <td>angry</td>\n",
              "    </tr>\n",
              "    <tr>\n",
              "      <th>1196</th>\n",
              "      <td>fear</td>\n",
              "      <td>fear</td>\n",
              "    </tr>\n",
              "    <tr>\n",
              "      <th>1197</th>\n",
              "      <td>fear</td>\n",
              "      <td>angry</td>\n",
              "    </tr>\n",
              "    <tr>\n",
              "      <th>1198</th>\n",
              "      <td>fear</td>\n",
              "      <td>happy</td>\n",
              "    </tr>\n",
              "    <tr>\n",
              "      <th>1199</th>\n",
              "      <td>fear</td>\n",
              "      <td>sad</td>\n",
              "    </tr>\n",
              "  </tbody>\n",
              "</table>\n",
              "<p>1200 rows × 2 columns</p>\n",
              "</div>\n",
              "      <button class=\"colab-df-convert\" onclick=\"convertToInteractive('df-84e8d918-fc96-4f6e-bcd6-038a6dade90c')\"\n",
              "              title=\"Convert this dataframe to an interactive table.\"\n",
              "              style=\"display:none;\">\n",
              "        \n",
              "  <svg xmlns=\"http://www.w3.org/2000/svg\" height=\"24px\"viewBox=\"0 0 24 24\"\n",
              "       width=\"24px\">\n",
              "    <path d=\"M0 0h24v24H0V0z\" fill=\"none\"/>\n",
              "    <path d=\"M18.56 5.44l.94 2.06.94-2.06 2.06-.94-2.06-.94-.94-2.06-.94 2.06-2.06.94zm-11 1L8.5 8.5l.94-2.06 2.06-.94-2.06-.94L8.5 2.5l-.94 2.06-2.06.94zm10 10l.94 2.06.94-2.06 2.06-.94-2.06-.94-.94-2.06-.94 2.06-2.06.94z\"/><path d=\"M17.41 7.96l-1.37-1.37c-.4-.4-.92-.59-1.43-.59-.52 0-1.04.2-1.43.59L10.3 9.45l-7.72 7.72c-.78.78-.78 2.05 0 2.83L4 21.41c.39.39.9.59 1.41.59.51 0 1.02-.2 1.41-.59l7.78-7.78 2.81-2.81c.8-.78.8-2.07 0-2.86zM5.41 20L4 18.59l7.72-7.72 1.47 1.35L5.41 20z\"/>\n",
              "  </svg>\n",
              "      </button>\n",
              "      \n",
              "  <style>\n",
              "    .colab-df-container {\n",
              "      display:flex;\n",
              "      flex-wrap:wrap;\n",
              "      gap: 12px;\n",
              "    }\n",
              "\n",
              "    .colab-df-convert {\n",
              "      background-color: #E8F0FE;\n",
              "      border: none;\n",
              "      border-radius: 50%;\n",
              "      cursor: pointer;\n",
              "      display: none;\n",
              "      fill: #1967D2;\n",
              "      height: 32px;\n",
              "      padding: 0 0 0 0;\n",
              "      width: 32px;\n",
              "    }\n",
              "\n",
              "    .colab-df-convert:hover {\n",
              "      background-color: #E2EBFA;\n",
              "      box-shadow: 0px 1px 2px rgba(60, 64, 67, 0.3), 0px 1px 3px 1px rgba(60, 64, 67, 0.15);\n",
              "      fill: #174EA6;\n",
              "    }\n",
              "\n",
              "    [theme=dark] .colab-df-convert {\n",
              "      background-color: #3B4455;\n",
              "      fill: #D2E3FC;\n",
              "    }\n",
              "\n",
              "    [theme=dark] .colab-df-convert:hover {\n",
              "      background-color: #434B5C;\n",
              "      box-shadow: 0px 1px 3px 1px rgba(0, 0, 0, 0.15);\n",
              "      filter: drop-shadow(0px 1px 2px rgba(0, 0, 0, 0.3));\n",
              "      fill: #FFFFFF;\n",
              "    }\n",
              "  </style>\n",
              "\n",
              "      <script>\n",
              "        const buttonEl =\n",
              "          document.querySelector('#df-84e8d918-fc96-4f6e-bcd6-038a6dade90c button.colab-df-convert');\n",
              "        buttonEl.style.display =\n",
              "          google.colab.kernel.accessAllowed ? 'block' : 'none';\n",
              "\n",
              "        async function convertToInteractive(key) {\n",
              "          const element = document.querySelector('#df-84e8d918-fc96-4f6e-bcd6-038a6dade90c');\n",
              "          const dataTable =\n",
              "            await google.colab.kernel.invokeFunction('convertToInteractive',\n",
              "                                                     [key], {});\n",
              "          if (!dataTable) return;\n",
              "\n",
              "          const docLinkHtml = 'Like what you see? Visit the ' +\n",
              "            '<a target=\"_blank\" href=https://colab.research.google.com/notebooks/data_table.ipynb>data table notebook</a>'\n",
              "            + ' to learn more about interactive tables.';\n",
              "          element.innerHTML = '';\n",
              "          dataTable['output_type'] = 'display_data';\n",
              "          await google.colab.output.renderOutput(dataTable, element);\n",
              "          const docLink = document.createElement('div');\n",
              "          docLink.innerHTML = docLinkHtml;\n",
              "          element.appendChild(docLink);\n",
              "        }\n",
              "      </script>\n",
              "    </div>\n",
              "  </div>\n",
              "  "
            ]
          },
          "metadata": {},
          "execution_count": 25
        }
      ]
    },
    {
      "cell_type": "code",
      "source": [
        "cm = confusion_matrix(y_test_lstm, y_pred_lstm)\n",
        "plt.figure(figsize = (12, 10))\n",
        "cm = pd.DataFrame(cm , index = [i for i in encoder.categories_] , columns = [i for i in encoder.categories_])\n",
        "sns.heatmap(cm, linecolor='white', cmap='Blues', linewidth=1, annot=True, fmt='')\n",
        "plt.title('Confusion Matrix', size=20)\n",
        "plt.xlabel('Predicted Labels', size=14)\n",
        "plt.ylabel('Actual Labels', size=14)\n",
        "plt.show()"
      ],
      "metadata": {
        "colab": {
          "base_uri": "https://localhost:8080/",
          "height": 630
        },
        "outputId": "1b77c7cb-0379-484d-af9e-2bbbd328dd80",
        "id": "aTL0aExKiXcK"
      },
      "execution_count": null,
      "outputs": [
        {
          "output_type": "display_data",
          "data": {
            "text/plain": [
              "<Figure size 864x720 with 2 Axes>"
            ],
            "image/png": "[encoded data removed]"
          },
          "metadata": {
            "needs_background": "light"
          }
        }
      ]
    },
    {
      "cell_type": "code",
      "source": [
        "print(classification_report(y_test_lstm, y_pred_lstm))"
      ],
      "metadata": {
        "colab": {
          "base_uri": "https://localhost:8080/"
        },
        "outputId": "9fc16009-53fd-4fac-d1cb-b1df294eea24",
        "id": "IZL9RWnDiXcL"
      },
      "execution_count": null,
      "outputs": [
        {
          "output_type": "stream",
          "name": "stdout",
          "text": [
            "              precision    recall  f1-score   support\n",
            "\n",
            "       angry       0.00      0.00      0.00       319\n",
            "        fear       0.24      1.00      0.38       283\n",
            "       happy       0.00      0.00      0.00       297\n",
            "         sad       0.00      0.00      0.00       301\n",
            "\n",
            "    accuracy                           0.24      1200\n",
            "   macro avg       0.06      0.25      0.10      1200\n",
            "weighted avg       0.06      0.24      0.09      1200\n",
            "\n"
          ]
        },
        {
          "output_type": "stream",
          "name": "stderr",
          "text": [
            "/usr/local/lib/python3.7/dist-packages/sklearn/metrics/_classification.py:1318: UndefinedMetricWarning: Precision and F-score are ill-defined and being set to 0.0 in labels with no predicted samples. Use `zero_division` parameter to control this behavior.\n",
            "  _warn_prf(average, modifier, msg_start, len(result))\n",
            "/usr/local/lib/python3.7/dist-packages/sklearn/metrics/_classification.py:1318: UndefinedMetricWarning: Precision and F-score are ill-defined and being set to 0.0 in labels with no predicted samples. Use `zero_division` parameter to control this behavior.\n",
            "  _warn_prf(average, modifier, msg_start, len(result))\n",
            "/usr/local/lib/python3.7/dist-packages/sklearn/metrics/_classification.py:1318: UndefinedMetricWarning: Precision and F-score are ill-defined and being set to 0.0 in labels with no predicted samples. Use `zero_division` parameter to control this behavior.\n",
            "  _warn_prf(average, modifier, msg_start, len(result))\n"
          ]
        }
      ]
    },
    {
      "cell_type": "markdown",
      "source": [
        "# 5. Model CNN + LSTM"
      ],
      "metadata": {
        "id": "vfmcRxALg2QV"
      }
    },
    {
      "cell_type": "code",
      "source": [
        "model_rcnn=Sequential()\n",
        "model_rcnn.add(Conv1D(256, kernel_size=5, strides=1, padding='same', activation='relu', input_shape=(x_train.shape[1], 1)))\n",
        "model_rcnn.add(MaxPooling1D(pool_size=5, strides = 2, padding = 'same'))\n",
        "\n",
        "model_rcnn.add(Conv1D(256, kernel_size=5, strides=1, padding='same', activation='relu'))\n",
        "model_rcnn.add(MaxPooling1D(pool_size=5, strides = 2, padding = 'same'))\n",
        "model_rcnn.add(Dropout(0.2))\n",
        "\n",
        "model_rcnn.add(LSTM(128, activation='relu', return_sequences=True))\n",
        "model_rcnn.add(Dropout(0.2))\n",
        "\n",
        "model_rcnn.add(LSTM(64, activation='relu'))\n",
        "model_rcnn.add(Dropout(0.2))\n",
        "\n",
        "model_rcnn.add(Dense(units=32, activation='relu'))\n",
        "model_rcnn.add(Dropout(0.2))\n",
        "\n",
        "model_rcnn.add(Dense(4, activation='softmax'))\n",
        "model_rcnn.compile(optimizer = 'adam' , loss = 'categorical_crossentropy' , metrics = ['accuracy'])\n",
        "\n",
        "model_rcnn.summary()"
      ],
      "metadata": {
        "colab": {
          "base_uri": "https://localhost:8080/"
        },
        "outputId": "2d006423-a8ba-4753-981d-537e220231e4",
        "id": "lZgMYRoDg2QV"
      },
      "execution_count": null,
      "outputs": [
        {
          "output_type": "stream",
          "name": "stdout",
          "text": [
            "Model: \"sequential_2\"\n",
            "_________________________________________________________________\n",
            " Layer (type)                Output Shape              Param #   \n",
            "=================================================================\n",
            " conv1d_4 (Conv1D)           (None, 20, 256)           1536      \n",
            "                                                                 \n",
            " max_pooling1d_4 (MaxPooling  (None, 10, 256)          0         \n",
            " 1D)                                                             \n",
            "                                                                 \n",
            " conv1d_5 (Conv1D)           (None, 10, 256)           327936    \n",
            "                                                                 \n",
            " max_pooling1d_5 (MaxPooling  (None, 5, 256)           0         \n",
            " 1D)                                                             \n",
            "                                                                 \n",
            " dropout_8 (Dropout)         (None, 5, 256)            0         \n",
            "                                                                 \n",
            " lstm_4 (LSTM)               (None, 5, 128)            197120    \n",
            "                                                                 \n",
            " dropout_9 (Dropout)         (None, 5, 128)            0         \n",
            "                                                                 \n",
            " lstm_5 (LSTM)               (None, 64)                49408     \n",
            "                                                                 \n",
            " dropout_10 (Dropout)        (None, 64)                0         \n",
            "                                                                 \n",
            " dense_4 (Dense)             (None, 32)                2080      \n",
            "                                                                 \n",
            " dropout_11 (Dropout)        (None, 32)                0         \n",
            "                                                                 \n",
            " dense_5 (Dense)             (None, 4)                 132       \n",
            "                                                                 \n",
            "=================================================================\n",
            "Total params: 578,212\n",
            "Trainable params: 578,212\n",
            "Non-trainable params: 0\n",
            "_________________________________________________________________\n"
          ]
        }
      ]
    },
    {
      "cell_type": "code",
      "source": [
        "history=model_rcnn.fit(x_train, y_train, batch_size=64, epochs=10, validation_data=(x_test, y_test))"
      ],
      "metadata": {
        "colab": {
          "base_uri": "https://localhost:8080/"
        },
        "outputId": "9cdf86c2-6d2c-4442-9110-dda88abead65",
        "id": "WInHNHCRg2QW"
      },
      "execution_count": null,
      "outputs": [
        {
          "output_type": "stream",
          "name": "stdout",
          "text": [
            "Epoch 1/10\n",
            "57/57 [==============================] - 10s 124ms/step - loss: 1.5433 - accuracy: 0.3111 - val_loss: 1.2143 - val_accuracy: 0.4617\n",
            "Epoch 2/10\n",
            "57/57 [==============================] - 7s 115ms/step - loss: 1.0727 - accuracy: 0.4833 - val_loss: 0.7452 - val_accuracy: 0.6750\n",
            "Epoch 3/10\n",
            "57/57 [==============================] - 6s 114ms/step - loss: 0.7319 - accuracy: 0.6719 - val_loss: 0.4748 - val_accuracy: 0.7942\n",
            "Epoch 4/10\n",
            "57/57 [==============================] - 6s 114ms/step - loss: 0.5167 - accuracy: 0.7867 - val_loss: 0.2346 - val_accuracy: 0.9283\n",
            "Epoch 5/10\n",
            "57/57 [==============================] - 7s 115ms/step - loss: 0.3824 - accuracy: 0.8672 - val_loss: 0.2173 - val_accuracy: 0.9425\n",
            "Epoch 6/10\n",
            "57/57 [==============================] - 6s 114ms/step - loss: 0.2474 - accuracy: 0.9156 - val_loss: 0.1896 - val_accuracy: 0.9433\n",
            "Epoch 7/10\n",
            "57/57 [==============================] - 6s 114ms/step - loss: 0.2242 - accuracy: 0.9328 - val_loss: 0.1618 - val_accuracy: 0.9508\n",
            "Epoch 8/10\n",
            "57/57 [==============================] - 6s 114ms/step - loss: 0.1655 - accuracy: 0.9469 - val_loss: 0.1464 - val_accuracy: 0.9692\n",
            "Epoch 9/10\n",
            "57/57 [==============================] - 6s 113ms/step - loss: 0.1388 - accuracy: 0.9583 - val_loss: 0.1182 - val_accuracy: 0.9625\n",
            "Epoch 10/10\n",
            "57/57 [==============================] - 6s 113ms/step - loss: 0.1233 - accuracy: 0.9656 - val_loss: 0.0780 - val_accuracy: 0.9783\n"
          ]
        }
      ]
    },
    {
      "cell_type": "code",
      "source": [
        "print(\"Accuracy of our model on test data : \" , model_rcnn.evaluate(x_test,y_test)[1]*100 , \"%\")\n",
        "\n",
        "epochs = [i for i in range(10)]\n",
        "fig , ax = plt.subplots(1,2)\n",
        "train_acc = history.history['accuracy']\n",
        "train_loss = history.history['loss']\n",
        "test_acc = history.history['val_accuracy']\n",
        "test_loss = history.history['val_loss']\n",
        "\n",
        "fig.set_size_inches(20,6)\n",
        "ax[0].plot(epochs , train_loss , label = 'Training Loss')\n",
        "ax[0].plot(epochs , test_loss , label = 'Testing Loss')\n",
        "ax[0].set_title('Training & Testing Loss')\n",
        "ax[0].legend()\n",
        "ax[0].set_xlabel(\"Epochs\")\n",
        "\n",
        "ax[1].plot(epochs , train_acc , label = 'Training Accuracy')\n",
        "ax[1].plot(epochs , test_acc , label = 'Testing Accuracy')\n",
        "ax[1].set_title('Training & Testing Accuracy')\n",
        "ax[1].legend()\n",
        "ax[1].set_xlabel(\"Epochs\")\n",
        "plt.show()"
      ],
      "metadata": {
        "colab": {
          "base_uri": "https://localhost:8080/",
          "height": 439
        },
        "outputId": "3ac39320-2c2a-4208-ec2c-ecf77e765177",
        "id": "GJuXAIxJg2QW"
      },
      "execution_count": null,
      "outputs": [
        {
          "output_type": "stream",
          "name": "stdout",
          "text": [
            "38/38 [==============================] - 1s 13ms/step - loss: 0.0780 - accuracy: 0.9783\n",
            "Accuracy of our model on test data :  97.83333539962769 %\n"
          ]
        },
        {
          "output_type": "display_data",
          "data": {
            "text/plain": [
              "<Figure size 1440x432 with 2 Axes>"
            ],
            "image/png": "[encoded data removed]"
          },
          "metadata": {
            "needs_background": "light"
          }
        }
      ]
    },
    {
      "cell_type": "code",
      "source": [
        "# predicting on test data.\n",
        "pred_test_rcnn = model_rcnn.predict(x_test)\n",
        "y_pred_rcnn = encoder.inverse_transform(pred_test_rcnn)\n",
        "\n",
        "y_test_rcnn = encoder.inverse_transform(y_test)"
      ],
      "metadata": {
        "id": "rR_MNXpig2QW"
      },
      "execution_count": null,
      "outputs": []
    },
    {
      "cell_type": "code",
      "source": [
        "pred_test_rcnn"
      ],
      "metadata": {
        "colab": {
          "base_uri": "https://localhost:8080/"
        },
        "outputId": "6707543d-e487-4335-b693-1a25d24ba58b",
        "id": "u37YHB5Ag2QX"
      },
      "execution_count": null,
      "outputs": [
        {
          "output_type": "execute_result",
          "data": {
            "text/plain": [
              "array([[2.8280260e-06, 9.9988627e-01, 1.1081398e-04, 2.8556217e-09],\n",
              "       [2.6453671e-07, 1.2642107e-10, 1.9190604e-12, 9.9999976e-01],\n",
              "       [9.9993408e-01, 5.8014528e-05, 5.8724563e-06, 2.0813420e-06],\n",
              "       ...,\n",
              "       [1.0000000e+00, 5.8986569e-08, 1.0177678e-09, 5.7883687e-10],\n",
              "       [2.9818751e-05, 1.0783839e-03, 9.9885893e-01, 3.2886543e-05],\n",
              "       [6.2313341e-03, 1.3676799e-03, 1.1418459e-03, 9.9125916e-01]],\n",
              "      dtype=float32)"
            ]
          },
          "metadata": {},
          "execution_count": 32
        }
      ]
    },
    {
      "cell_type": "code",
      "source": [
        "df = pd.DataFrame(columns=['Predicted Labels', 'Actual Labels'])\n",
        "df['Predicted Labels'] = y_pred_rcnn.flatten()\n",
        "df['Actual Labels'] = y_test_rcnn.flatten()\n",
        "\n",
        "df"
      ],
      "metadata": {
        "colab": {
          "base_uri": "https://localhost:8080/",
          "height": 424
        },
        "outputId": "de136842-0a0f-4d75-e2fc-171d9d39a7c2",
        "id": "OO_unVcGg2QX"
      },
      "execution_count": null,
      "outputs": [
        {
          "output_type": "execute_result",
          "data": {
            "text/plain": [
              "     Predicted Labels Actual Labels\n",
              "0                fear          fear\n",
              "1                 sad           sad\n",
              "2               angry         angry\n",
              "3                fear          fear\n",
              "4                fear          fear\n",
              "...               ...           ...\n",
              "1195            angry         angry\n",
              "1196             fear          fear\n",
              "1197            angry         angry\n",
              "1198            happy         happy\n",
              "1199              sad           sad\n",
              "\n",
              "[1200 rows x 2 columns]"
            ],
            "text/html": [
              "\n",
              "  <div id=\"df-fcdda596-a60a-495f-bc1a-a559a8d36c71\">\n",
              "    <div class=\"colab-df-container\">\n",
              "      <div>\n",
              "<style scoped>\n",
              "    .dataframe tbody tr th:only-of-type {\n",
              "        vertical-align: middle;\n",
              "    }\n",
              "\n",
              "    .dataframe tbody tr th {\n",
              "        vertical-align: top;\n",
              "    }\n",
              "\n",
              "    .dataframe thead th {\n",
              "        text-align: right;\n",
              "    }\n",
              "</style>\n",
              "<table border=\"1\" class=\"dataframe\">\n",
              "  <thead>\n",
              "    <tr style=\"text-align: right;\">\n",
              "      <th></th>\n",
              "      <th>Predicted Labels</th>\n",
              "      <th>Actual Labels</th>\n",
              "    </tr>\n",
              "  </thead>\n",
              "  <tbody>\n",
              "    <tr>\n",
              "      <th>0</th>\n",
              "      <td>fear</td>\n",
              "      <td>fear</td>\n",
              "    </tr>\n",
              "    <tr>\n",
              "      <th>1</th>\n",
              "      <td>sad</td>\n",
              "      <td>sad</td>\n",
              "    </tr>\n",
              "    <tr>\n",
              "      <th>2</th>\n",
              "      <td>angry</td>\n",
              "      <td>angry</td>\n",
              "    </tr>\n",
              "    <tr>\n",
              "      <th>3</th>\n",
              "      <td>fear</td>\n",
              "      <td>fear</td>\n",
              "    </tr>\n",
              "    <tr>\n",
              "      <th>4</th>\n",
              "      <td>fear</td>\n",
              "      <td>fear</td>\n",
              "    </tr>\n",
              "    <tr>\n",
              "      <th>...</th>\n",
              "      <td>...</td>\n",
              "      <td>...</td>\n",
              "    </tr>\n",
              "    <tr>\n",
              "      <th>1195</th>\n",
              "      <td>angry</td>\n",
              "      <td>angry</td>\n",
              "    </tr>\n",
              "    <tr>\n",
              "      <th>1196</th>\n",
              "      <td>fear</td>\n",
              "      <td>fear</td>\n",
              "    </tr>\n",
              "    <tr>\n",
              "      <th>1197</th>\n",
              "      <td>angry</td>\n",
              "      <td>angry</td>\n",
              "    </tr>\n",
              "    <tr>\n",
              "      <th>1198</th>\n",
              "      <td>happy</td>\n",
              "      <td>happy</td>\n",
              "    </tr>\n",
              "    <tr>\n",
              "      <th>1199</th>\n",
              "      <td>sad</td>\n",
              "      <td>sad</td>\n",
              "    </tr>\n",
              "  </tbody>\n",
              "</table>\n",
              "<p>1200 rows × 2 columns</p>\n",
              "</div>\n",
              "      <button class=\"colab-df-convert\" onclick=\"convertToInteractive('df-fcdda596-a60a-495f-bc1a-a559a8d36c71')\"\n",
              "              title=\"Convert this dataframe to an interactive table.\"\n",
              "              style=\"display:none;\">\n",
              "        \n",
              "  <svg xmlns=\"http://www.w3.org/2000/svg\" height=\"24px\"viewBox=\"0 0 24 24\"\n",
              "       width=\"24px\">\n",
              "    <path d=\"M0 0h24v24H0V0z\" fill=\"none\"/>\n",
              "    <path d=\"M18.56 5.44l.94 2.06.94-2.06 2.06-.94-2.06-.94-.94-2.06-.94 2.06-2.06.94zm-11 1L8.5 8.5l.94-2.06 2.06-.94-2.06-.94L8.5 2.5l-.94 2.06-2.06.94zm10 10l.94 2.06.94-2.06 2.06-.94-2.06-.94-.94-2.06-.94 2.06-2.06.94z\"/><path d=\"M17.41 7.96l-1.37-1.37c-.4-.4-.92-.59-1.43-.59-.52 0-1.04.2-1.43.59L10.3 9.45l-7.72 7.72c-.78.78-.78 2.05 0 2.83L4 21.41c.39.39.9.59 1.41.59.51 0 1.02-.2 1.41-.59l7.78-7.78 2.81-2.81c.8-.78.8-2.07 0-2.86zM5.41 20L4 18.59l7.72-7.72 1.47 1.35L5.41 20z\"/>\n",
              "  </svg>\n",
              "      </button>\n",
              "      \n",
              "  <style>\n",
              "    .colab-df-container {\n",
              "      display:flex;\n",
              "      flex-wrap:wrap;\n",
              "      gap: 12px;\n",
              "    }\n",
              "\n",
              "    .colab-df-convert {\n",
              "      background-color: #E8F0FE;\n",
              "      border: none;\n",
              "      border-radius: 50%;\n",
              "      cursor: pointer;\n",
              "      display: none;\n",
              "      fill: #1967D2;\n",
              "      height: 32px;\n",
              "      padding: 0 0 0 0;\n",
              "      width: 32px;\n",
              "    }\n",
              "\n",
              "    .colab-df-convert:hover {\n",
              "      background-color: #E2EBFA;\n",
              "      box-shadow: 0px 1px 2px rgba(60, 64, 67, 0.3), 0px 1px 3px 1px rgba(60, 64, 67, 0.15);\n",
              "      fill: #174EA6;\n",
              "    }\n",
              "\n",
              "    [theme=dark] .colab-df-convert {\n",
              "      background-color: #3B4455;\n",
              "      fill: #D2E3FC;\n",
              "    }\n",
              "\n",
              "    [theme=dark] .colab-df-convert:hover {\n",
              "      background-color: #434B5C;\n",
              "      box-shadow: 0px 1px 3px 1px rgba(0, 0, 0, 0.15);\n",
              "      filter: drop-shadow(0px 1px 2px rgba(0, 0, 0, 0.3));\n",
              "      fill: #FFFFFF;\n",
              "    }\n",
              "  </style>\n",
              "\n",
              "      <script>\n",
              "        const buttonEl =\n",
              "          document.querySelector('#df-fcdda596-a60a-495f-bc1a-a559a8d36c71 button.colab-df-convert');\n",
              "        buttonEl.style.display =\n",
              "          google.colab.kernel.accessAllowed ? 'block' : 'none';\n",
              "\n",
              "        async function convertToInteractive(key) {\n",
              "          const element = document.querySelector('#df-fcdda596-a60a-495f-bc1a-a559a8d36c71');\n",
              "          const dataTable =\n",
              "            await google.colab.kernel.invokeFunction('convertToInteractive',\n",
              "                                                     [key], {});\n",
              "          if (!dataTable) return;\n",
              "\n",
              "          const docLinkHtml = 'Like what you see? Visit the ' +\n",
              "            '<a target=\"_blank\" href=https://colab.research.google.com/notebooks/data_table.ipynb>data table notebook</a>'\n",
              "            + ' to learn more about interactive tables.';\n",
              "          element.innerHTML = '';\n",
              "          dataTable['output_type'] = 'display_data';\n",
              "          await google.colab.output.renderOutput(dataTable, element);\n",
              "          const docLink = document.createElement('div');\n",
              "          docLink.innerHTML = docLinkHtml;\n",
              "          element.appendChild(docLink);\n",
              "        }\n",
              "      </script>\n",
              "    </div>\n",
              "  </div>\n",
              "  "
            ]
          },
          "metadata": {},
          "execution_count": 33
        }
      ]
    },
    {
      "cell_type": "code",
      "source": [
        "cm = confusion_matrix(y_test_rcnn, y_pred_rcnn)\n",
        "plt.figure(figsize = (12, 10))\n",
        "cm = pd.DataFrame(cm , index = [i for i in encoder.categories_] , columns = [i for i in encoder.categories_])\n",
        "sns.heatmap(cm, linecolor='white', cmap='Blues', linewidth=1, annot=True, fmt='')\n",
        "plt.title('Confusion Matrix', size=20)\n",
        "plt.xlabel('Predicted Labels', size=14)\n",
        "plt.ylabel('Actual Labels', size=14)\n",
        "plt.show()"
      ],
      "metadata": {
        "colab": {
          "base_uri": "https://localhost:8080/",
          "height": 630
        },
        "outputId": "ac6fd5a2-0b92-4c9d-c7e9-cf3b5e1619f5",
        "id": "i-aq--gfg2QX"
      },
      "execution_count": null,
      "outputs": [
        {
          "output_type": "display_data",
          "data": {
            "text/plain": [
              "<Figure size 864x720 with 2 Axes>"
            ],
            "image/png": "[encoded data removed]"
          },
          "metadata": {
            "needs_background": "light"
          }
        }
      ]
    },
    {
      "cell_type": "code",
      "source": [
        "print(classification_report(y_test_rcnn, y_pred_rcnn))"
      ],
      "metadata": {
        "colab": {
          "base_uri": "https://localhost:8080/"
        },
        "outputId": "65a2f7f7-a058-4a4a-9a24-049eabeffc08",
        "id": "WLf8IcBDg2QX"
      },
      "execution_count": null,
      "outputs": [
        {
          "output_type": "stream",
          "name": "stdout",
          "text": [
            "              precision    recall  f1-score   support\n",
            "\n",
            "       angry       0.99      0.96      0.97       319\n",
            "        fear       0.95      0.98      0.97       283\n",
            "       happy       0.98      0.97      0.98       297\n",
            "         sad       1.00      1.00      1.00       301\n",
            "\n",
            "    accuracy                           0.98      1200\n",
            "   macro avg       0.98      0.98      0.98      1200\n",
            "weighted avg       0.98      0.98      0.98      1200\n",
            "\n"
          ]
        }
      ]
    },
    {
      "cell_type": "code",
      "source": [
        "saved_model = model_rcnn.save('model emotion.h5')"
      ],
      "metadata": {
        "id": "8pWb2ydcIwB-"
      },
      "execution_count": null,
      "outputs": []
    },
    {
      "cell_type": "code",
      "source": [
        "def get_features(path):\n",
        "    # duration and offset are used to take care of the no audio in start and the ending of each audio files as seen above.\n",
        "    data, sample_rate = librosa.load(path, duration=2.5, offset=0.6)\n",
        "    \n",
        "    result = np.array([])\n",
        "    # MFCC\n",
        "    mfcc = np.mean(librosa.feature.mfcc(y=data, sr=sample_rate).T, axis=0)\n",
        "    result = np.hstack((result, mfcc)) # stacking horizontally\n",
        "    \n",
        "    result = np.array(result)\n",
        "    \n",
        "    return result"
      ],
      "metadata": {
        "id": "nKGQU4l1YKE7"
      },
      "execution_count": null,
      "outputs": []
    },
    {
      "cell_type": "code",
      "source": [
        "from tensorflow.keras.models import load_model\n",
        "suara = '/content/drive/MyDrive/data audio/OAF_Sad/OAF_bath_sad.wav'\n",
        "model = load_model('model emotion.h5')\n",
        "X__ = []\n",
        "feature = get_features(suara)\n",
        "for ele in feature:\n",
        "  X__.append(ele)\n",
        "X__Test = np.array(X__).reshape(1,-1)\n",
        "test_input = np.expand_dims(X__Test, axis=2)\n",
        "pred_test__ = model.predict(test_input)\n",
        "predicted_label=np.argmax(pred_test__,axis=1)\n",
        "print(predicted_label)"
      ],
      "metadata": {
        "id": "mwQHT3nDUnbj",
        "colab": {
          "base_uri": "https://localhost:8080/"
        },
        "outputId": "4fd9f8bd-2540-481a-cf57-0a6573dc1a14"
      },
      "execution_count": null,
      "outputs": [
        {
          "output_type": "stream",
          "name": "stdout",
          "text": [
            "[3]\n"
          ]
        }
      ]
    },
    {
      "cell_type": "code",
      "source": [],
      "metadata": {
        "id": "_BparrK-Yhtf"
      },
      "execution_count": null,
      "outputs": []
    }
  ],
  "metadata": {
    "colab": {
      "collapsed_sections": [],
      "provenance": [],
      "authorship_tag": "ABX9TyOc6tcRhEsbSvt72rNIZNuk",
      "include_colab_link": true
    },
    "gpuClass": "standard",
    "kernelspec": {
      "display_name": "Python 3",
      "name": "python3"
    },
    "language_info": {
      "name": "python"
    }
  },
  "nbformat": 4,
  "nbformat_minor": 0
}